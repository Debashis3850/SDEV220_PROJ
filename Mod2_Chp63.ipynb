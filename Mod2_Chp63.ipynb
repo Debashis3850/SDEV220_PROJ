{
 "cells": [
  {
   "cell_type": "code",
   "execution_count": 8,
   "id": "8b999a59-0c81-4bbd-b253-615d47f96589",
   "metadata": {},
   "outputs": [
    {
     "name": "stdout",
     "output_type": "stream",
     "text": [
      "Too Low\n",
      "Too Low\n",
      "Too Low\n",
      "Too Low\n",
      "Too Low\n",
      "Fount It\n"
     ]
    }
   ],
   "source": [
    "guess_me = 5\n",
    "for number in range(19):\n",
    "   if number < guess_me:\n",
    "      print('Too Low')\n",
    "   elif number == guess_me:\n",
    "      print('Fount It')\n",
    "      break\n",
    "   else:\n",
    "      print('Oops!')\n",
    "      break \n",
    "   "
   ]
  },
  {
   "cell_type": "code",
   "execution_count": null,
   "id": "17daecd7-a4e8-4733-8eaf-edd3ae02ab5b",
   "metadata": {},
   "outputs": [],
   "source": []
  }
 ],
 "metadata": {
  "kernelspec": {
   "display_name": "Python [conda env:base] *",
   "language": "python",
   "name": "conda-base-py"
  },
  "language_info": {
   "codemirror_mode": {
    "name": "ipython",
    "version": 3
   },
   "file_extension": ".py",
   "mimetype": "text/x-python",
   "name": "python",
   "nbconvert_exporter": "python",
   "pygments_lexer": "ipython3",
   "version": "3.12.7"
  }
 },
 "nbformat": 4,
 "nbformat_minor": 5
}
