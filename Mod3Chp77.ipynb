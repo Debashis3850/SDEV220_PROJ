{
 "cells": [
  {
   "cell_type": "code",
   "execution_count": null,
   "id": "12f39159-1a8e-4df8-882d-7ed1b2209702",
   "metadata": {},
   "outputs": [],
   "source": [
    "things = ['MOZZARELLA', 'Cindrella', 'salmonella']\n",
    "del things[-1]\n",
    "print(things)"
   ]
  }
 ],
 "metadata": {
  "kernelspec": {
   "display_name": "Python [conda env:base] *",
   "language": "python",
   "name": "conda-base-py"
  },
  "language_info": {
   "codemirror_mode": {
    "name": "ipython",
    "version": 3
   },
   "file_extension": ".py",
   "mimetype": "text/x-python",
   "name": "python",
   "nbconvert_exporter": "python",
   "pygments_lexer": "ipython3",
   "version": "3.12.7"
  }
 },
 "nbformat": 4,
 "nbformat_minor": 5
}
