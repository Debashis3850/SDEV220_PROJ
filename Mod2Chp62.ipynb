{
 "cells": [
  {
   "cell_type": "code",
   "execution_count": 9,
   "id": "fc2c5d9f-33f6-4a69-911f-bd961f5c60c1",
   "metadata": {},
   "outputs": [
    {
     "name": "stdout",
     "output_type": "stream",
     "text": [
      "Too Low\n",
      "Too Low\n",
      "Too Low\n",
      "Too Low\n",
      "Too Low\n",
      "Too Low\n",
      "Found it\n"
     ]
    }
   ],
   "source": [
    "guess_me = 7\n",
    "number = 1\n",
    "while True:\n",
    "    if number < guess_me:\n",
    "      print('Too Low')\n",
    "    elif number == guess_me:\n",
    "       print('Found it')\n",
    "       break\n",
    "    elif number > guess_me:\n",
    "        print('Too High')\n",
    "        break\n",
    "    number +=1      "
   ]
  },
  {
   "cell_type": "code",
   "execution_count": null,
   "id": "68a17197-583a-4ffd-b564-1a7456fd978c",
   "metadata": {},
   "outputs": [],
   "source": []
  }
 ],
 "metadata": {
  "kernelspec": {
   "display_name": "Python [conda env:base] *",
   "language": "python",
   "name": "conda-base-py"
  },
  "language_info": {
   "codemirror_mode": {
    "name": "ipython",
    "version": 3
   },
   "file_extension": ".py",
   "mimetype": "text/x-python",
   "name": "python",
   "nbconvert_exporter": "python",
   "pygments_lexer": "ipython3",
   "version": "3.12.7"
  }
 },
 "nbformat": 4,
 "nbformat_minor": 5
}
