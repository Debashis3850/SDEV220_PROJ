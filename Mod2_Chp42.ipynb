{
 "cells": [
  {
   "cell_type": "code",
   "execution_count": 1,
   "id": "82fda2b9-1b25-4d51-bdbb-f13c3a0961e2",
   "metadata": {},
   "outputs": [
    {
     "name": "stdout",
     "output_type": "stream",
     "text": [
      "Pea\n"
     ]
    }
   ],
   "source": [
    "small = 'False'\n",
    "green = 'True'\n",
    "if small:\n",
    "  if green:\n",
    "    print('Pea')\n",
    "  else:\n",
    "    print('Cherry')\n",
    "else:\n",
    "   if green:\n",
    "     print('Watermelon')\n",
    "   else:\n",
    "     rint('Pumpkin')"
   ]
  },
  {
   "cell_type": "code",
   "execution_count": null,
   "id": "dada5d02-00f6-446b-aea5-58940936312a",
   "metadata": {},
   "outputs": [],
   "source": []
  }
 ],
 "metadata": {
  "kernelspec": {
   "display_name": "Python [conda env:base] *",
   "language": "python",
   "name": "conda-base-py"
  },
  "language_info": {
   "codemirror_mode": {
    "name": "ipython",
    "version": 3
   },
   "file_extension": ".py",
   "mimetype": "text/x-python",
   "name": "python",
   "nbconvert_exporter": "python",
   "pygments_lexer": "ipython3",
   "version": "3.12.7"
  }
 },
 "nbformat": 4,
 "nbformat_minor": 5
}
