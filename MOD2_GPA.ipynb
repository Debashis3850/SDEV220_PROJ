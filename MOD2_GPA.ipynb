{
 "cells": [
  {
   "cell_type": "code",
   "execution_count": 37,
   "id": "dfcae70c-3c9b-4789-9317-cfea3e56ffde",
   "metadata": {},
   "outputs": [
    {
     "name": "stdout",
     "output_type": "stream",
     "text": [
      "Hello! Welcome to Ivy Tech Community College\n"
     ]
    },
    {
     "name": "stdin",
     "output_type": "stream",
     "text": [
      "Please Enter Your Lat Name: cox\n",
      "Please Enter Your First Name: ron\n",
      "Please Entr Your GPA(w/2 decimals): 3.65\n"
     ]
    },
    {
     "name": "stdout",
     "output_type": "stream",
     "text": [
      "ron cox has made the Deans List!! Congratulations!\n"
     ]
    }
   ],
   "source": [
    "##################################################################\n",
    "#\n",
    "# Written By:     D. Bhattacharya\n",
    "# File Name:      Mod2_GPA\n",
    "# dRESCRIPTIOJN - This applicaton asks for the student's last name, first name and their GPA.\n",
    "#                 It will determine if the student is on the Dean's List or the Honor Roll.\n",
    "###################################################################\n",
    "print('Hello! Welcome to Ivy Tech Community College')\n",
    "lname =  input('Please Enter Your Lat Name:')\n",
    "if lname == 'ZZZ':\n",
    "    print('Sorry! GPA Calculation cannot be done!')\n",
    "else:    \n",
    "    fname =  input('Please Enter Your First Name:')\n",
    "    stugpa = input('Please Entr Your GPA(w/2 decimals):')\n",
    "    gpa = float(stugpa)\n",
    "    if gpa >= 3.50:\n",
    "      print(fname + ' ' + lname + ' ' + 'has made the Deans List!! Congratulations!')\n",
    "    else:  \n",
    "     if gpa >=3.25 and gpa < 3.50:\n",
    "      print(fname + ' ' + lname + ' ' + 'has made the Honor Roll! Congrats..')\n"
   ]
  },
  {
   "cell_type": "code",
   "execution_count": null,
   "id": "9435d3ad-875a-4a7c-97ad-23e6b6572133",
   "metadata": {},
   "outputs": [],
   "source": []
  },
  {
   "cell_type": "code",
   "execution_count": null,
   "id": "13338943-146a-49ee-8ee0-34f59c723432",
   "metadata": {},
   "outputs": [],
   "source": []
  },
  {
   "cell_type": "code",
   "execution_count": null,
   "id": "9503c40e-9e30-482b-a5dd-724dfae76a93",
   "metadata": {},
   "outputs": [],
   "source": []
  },
  {
   "cell_type": "code",
   "execution_count": null,
   "id": "b7689be3-0f6e-46d7-902a-f91c5cd21069",
   "metadata": {},
   "outputs": [],
   "source": []
  }
 ],
 "metadata": {
  "kernelspec": {
   "display_name": "Python [conda env:base] *",
   "language": "python",
   "name": "conda-base-py"
  },
  "language_info": {
   "codemirror_mode": {
    "name": "ipython",
    "version": 3
   },
   "file_extension": ".py",
   "mimetype": "text/x-python",
   "name": "python",
   "nbconvert_exporter": "python",
   "pygments_lexer": "ipython3",
   "version": "3.12.7"
  }
 },
 "nbformat": 4,
 "nbformat_minor": 5
}
