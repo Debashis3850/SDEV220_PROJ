{
 "cells": [
  {
   "cell_type": "code",
   "execution_count": null,
   "id": "027ec36a-563c-4d21-b396-3b5314b38460",
   "metadata": {},
   "outputs": [],
   "source": [
    "def binary_search(arr, target):\n",
    "    low, high = 0, len(arr) - 1\n",
    "\n",
    "    while low <= high:\n",
    "        mid = (low + high) // 2\n",
    "\n",
    "        if arr[mid] == target:\n",
    "            return mid  # Target found at index mid\n",
    "        elif arr[mid] < target:\n",
    "            low = mid + 1  # Search right half\n",
    "        else:\n",
    "            high = mid - 1  # Search left half\n",
    "\n",
    "    return -1  # Target not found\n"
   ]
  }
 ],
 "metadata": {
  "kernelspec": {
   "display_name": "Python [conda env:base] *",
   "language": "python",
   "name": "conda-base-py"
  },
  "language_info": {
   "codemirror_mode": {
    "name": "ipython",
    "version": 3
   },
   "file_extension": ".py",
   "mimetype": "text/x-python",
   "name": "python",
   "nbconvert_exporter": "python",
   "pygments_lexer": "ipython3",
   "version": "3.12.7"
  }
 },
 "nbformat": 4,
 "nbformat_minor": 5
}
