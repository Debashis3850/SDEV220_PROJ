{
 "cells": [
  {
   "cell_type": "code",
   "execution_count": 3,
   "id": "fdc0678e-fa60-4912-a870-7f0f172230d0",
   "metadata": {},
   "outputs": [
    {
     "name": "stdin",
     "output_type": "stream",
     "text": [
      "Enter vehicle type (car, truck, etc.):  car\n",
      "Enter year:  2023\n",
      "Enter make:  cadillac\n",
      "Enter model:  CT5\n",
      "Enter number of doors (2 or 4):  4\n",
      "Enter type of roof (solid or sunroof):  sunroof\n"
     ]
    },
    {
     "name": "stdout",
     "output_type": "stream",
     "text": [
      "Vehicle type: car\n",
      "Year: 2023\n",
      "Make: cadillac\n",
      "Model: CT5\n",
      "Number of doors: 4\n",
      "Type of roof: sunroof\n"
     ]
    }
   ],
   "source": [
    "#######################################################################\n",
    "#\n",
    "#  Written By -    D.Bhattacharya\n",
    "#  Filename -      Mod3_Automobile\n",
    "#  Date -          January 30, 2025\n",
    "#  Purpose -       This applicaton uses classes and procedures to display automobile \n",
    "#                  information based upon user's input. \n",
    "#\n",
    "######################################################################\n",
    "\n",
    "class Vehicle:\n",
    "  \"\"\"Super class representing a generic vehicle.\"\"\"\n",
    "  def __init__(self, vehicle_type):\n",
    "    self.vehicle_type = vehicle_type\n",
    "\n",
    "class Automobile(Vehicle):\n",
    "  \"\"\"Class representing an automobile, inheriting from Vehicle.\"\"\"\n",
    "  def __init__(self, vehicle_type, year, make, model, doors, roof):\n",
    "    super().__init__(vehicle_type)\n",
    "    self.year = year\n",
    "    self.make = make\n",
    "    self.model = model\n",
    "    self.doors = doors\n",
    "    self.roof = roof\n",
    "\n",
    "  def display_info(self):\n",
    "    \"\"\"Displays automobile information in a user-friendly format.\"\"\"\n",
    "    print(f\"Vehicle type: {self.vehicle_type}\")\n",
    "    print(f\"Year: {self.year}\")\n",
    "    print(f\"Make: {self.make}\")\n",
    "    print(f\"Model: {self.model}\")\n",
    "    print(f\"Number of doors: {self.doors}\")\n",
    "    print(f\"Type of roof: {self.roof}\")\n",
    "\n",
    "\n",
    "# Get user input for the automobile\n",
    "vehicle_type = input(\"Enter vehicle type (car, truck, etc.): \")\n",
    "year = int(input(\"Enter year: \"))\n",
    "make = input(\"Enter make: \")\n",
    "model = input(\"Enter model: \")\n",
    "doors = int(input(\"Enter number of doors (2 or 4): \"))\n",
    "roof = input(\"Enter type of roof (solid or sunroof): \")\n",
    "\n",
    "# Create an Automobile object\n",
    "my_car = Automobile(vehicle_type, year, make, model, doors, roof)\n",
    "\n",
    "# Display the automobile information\n",
    "my_car.display_info()"
   ]
  },
  {
   "cell_type": "code",
   "execution_count": null,
   "id": "bbecfd82-c885-46f2-8173-d65550ea3d16",
   "metadata": {},
   "outputs": [],
   "source": []
  }
 ],
 "metadata": {
  "kernelspec": {
   "display_name": "Python [conda env:base] *",
   "language": "python",
   "name": "conda-base-py"
  },
  "language_info": {
   "codemirror_mode": {
    "name": "ipython",
    "version": 3
   },
   "file_extension": ".py",
   "mimetype": "text/x-python",
   "name": "python",
   "nbconvert_exporter": "python",
   "pygments_lexer": "ipython3",
   "version": "3.12.7"
  }
 },
 "nbformat": 4,
 "nbformat_minor": 5
}
